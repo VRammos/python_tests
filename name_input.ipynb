def hello():
  name=input("What's your name? ")
  print(f'Hey {name}')

hello()

// This is with a parameter
name = "blabla"

def hello_with_parameter(person_name):
  print(f'Hello {person_name}')

hello_with_parameter(name)
